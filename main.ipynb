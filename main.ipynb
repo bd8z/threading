{
 "cells": [
  {
   "cell_type": "code",
   "execution_count": 3,
   "metadata": {},
   "outputs": [
    {
     "name": "stdout",
     "output_type": "stream",
     "text": [
      "input: 4\n",
      "True\n",
      "True\n",
      "double:True\n",
      " {'thread1': 16}\n",
      "False\n"
     ]
    },
    {
     "ename": "KeyboardInterrupt",
     "evalue": "",
     "output_type": "error",
     "traceback": [
      "\u001b[1;31m---------------------------------------------------------------------------\u001b[0m",
      "\u001b[1;31mKeyboardInterrupt\u001b[0m                         Traceback (most recent call last)",
      "Cell \u001b[1;32mIn[3], line 18\u001b[0m\n\u001b[0;32m     16\u001b[0m thread\u001b[39m.\u001b[39mstart()\n\u001b[0;32m     17\u001b[0m \u001b[39mfor\u001b[39;00m k \u001b[39min\u001b[39;00m \u001b[39mrange\u001b[39m(\u001b[39m6\u001b[39m):\n\u001b[1;32m---> 18\u001b[0m     time\u001b[39m.\u001b[39;49msleep(\u001b[39m1\u001b[39;49m)\n\u001b[0;32m     19\u001b[0m     \u001b[39mprint\u001b[39m(thread\u001b[39m.\u001b[39mis_alive())\n\u001b[0;32m     20\u001b[0m \u001b[39m# thread.join()\u001b[39;00m\n\u001b[0;32m     21\u001b[0m \u001b[39m# print(result)\u001b[39;00m\n",
      "\u001b[1;31mKeyboardInterrupt\u001b[0m: "
     ]
    }
   ],
   "source": [
    "import time\n",
    "import threading\n",
    "\n",
    "\n",
    "def nijou(x, result):\n",
    "    print('input: %d' % x)\n",
    "    time.sleep(3)\n",
    "    result[threading.current_thread().name] = x * x\n",
    "    print('double:', result)\n",
    "\n",
    "\n",
    "if __name__ == \"__main__\":\n",
    "    result = dict()\n",
    "    thread = threading.Thread(target=nijou, args=[4, result], name='thread1')\n",
    "\n",
    "    thread.start()\n",
    "    for k in range(6):\n",
    "        time.sleep(1)\n",
    "        print(thread.is_alive())\n",
    "    # thread.join()\n",
    "    # print(result)\n"
   ]
  },
  {
   "cell_type": "code",
   "execution_count": 4,
   "metadata": {},
   "outputs": [
    {
     "name": "stdout",
     "output_type": "stream",
     "text": [
      "bool\n"
     ]
    },
    {
     "name": "stdout",
     "output_type": "stream",
     "text": [
      "bool\n",
      "bool\n",
      "bool\n",
      "bool\n",
      "bool\n",
      "bool\n",
      "bool\n",
      "bool\n",
      "bool\n",
      "bool\n",
      "bool\n",
      "bool\n",
      "bool\n",
      "bool\n",
      "bool\n",
      "bool\n",
      "bool\n"
     ]
    }
   ],
   "source": [
    "import threading\n",
    "import time\n",
    "\n",
    "\n",
    "def nijou():\n",
    "    while True:\n",
    "        print(\"bool\")\n",
    "        time.sleep(3)\n",
    "\n",
    "if __name__ == \"__main__\":\n",
    "    result = dict()\n",
    "    thread = threading.Thread(target=nijou, name='thread1')\n",
    "\n",
    "    thread.start()\n"
   ]
  },
  {
   "cell_type": "code",
   "execution_count": 6,
   "metadata": {},
   "outputs": [
    {
     "name": "stdout",
     "output_type": "stream",
     "text": [
      "7\n"
     ]
    },
    {
     "name": "stdout",
     "output_type": "stream",
     "text": [
      "bool\n",
      "bool\n",
      "bool\n",
      "bool\n",
      "bool\n",
      "bool\n",
      "bool\n",
      "bool\n",
      "bool\n",
      "bool\n",
      "bool\n",
      "bool\n",
      "bool\n",
      "bool\n",
      "bool\n",
      "bool\n",
      "bool\n"
     ]
    }
   ],
   "source": [
    "print(threading.active_count())"
   ]
  },
  {
   "cell_type": "code",
   "execution_count": 7,
   "metadata": {},
   "outputs": [
    {
     "name": "stdout",
     "output_type": "stream",
     "text": [
      "bool\n",
      "bool\n"
     ]
    }
   ],
   "source": [
    "threading.getprofile()"
   ]
  },
  {
   "cell_type": "code",
   "execution_count": null,
   "metadata": {},
   "outputs": [],
   "source": [
    "z"
   ]
  }
 ],
 "metadata": {
  "kernelspec": {
   "display_name": "Python 3",
   "language": "python",
   "name": "python3"
  },
  "language_info": {
   "codemirror_mode": {
    "name": "ipython",
    "version": 3
   },
   "file_extension": ".py",
   "mimetype": "text/x-python",
   "name": "python",
   "nbconvert_exporter": "python",
   "pygments_lexer": "ipython3",
   "version": "3.11.3"
  },
  "orig_nbformat": 4
 },
 "nbformat": 4,
 "nbformat_minor": 2
}
